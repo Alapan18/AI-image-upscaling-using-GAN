{
 "cells": [
  {
   "cell_type": "code",
   "execution_count": 11,
   "metadata": {},
   "outputs": [
    {
     "name": "stdout",
     "output_type": "stream",
     "text": [
      "[WinError 2] The system cannot find the file specified: 'video_part'\n",
      "c:\\Users\\alapa\\imageupscaler\\video_part\n"
     ]
    },
    {
     "name": "stderr",
     "output_type": "stream",
     "text": [
      "C:\\Users\\alapa\\AppData\\Local\\Packages\\PythonSoftwareFoundation.Python.3.12_qbz5n2kfra8p0\\LocalCache\\local-packages\\Python312\\site-packages\\IPython\\core\\magics\\osm.py:393: UserWarning: This is now an optional IPython functionality, using bookmarks requires you to install the `pickleshare` library.\n",
      "  bkms = self.shell.db.get('bookmarks', {})\n"
     ]
    }
   ],
   "source": [
    "%cd video_part"
   ]
  },
  {
   "cell_type": "code",
   "execution_count": 12,
   "metadata": {},
   "outputs": [
    {
     "name": "stdout",
     "output_type": "stream",
     "text": [
      "Frames saved to temp\n"
     ]
    }
   ],
   "source": [
    "import cv2\n",
    "import os\n",
    "\n",
    "def video_to_frames(input_video_path, output_frames_folder):\n",
    "    # Create the output directory if it doesn't exist\n",
    "    os.makedirs(output_frames_folder, exist_ok=True)\n",
    "    \n",
    "    # Open the video file\n",
    "    video_capture = cv2.VideoCapture(input_video_path)\n",
    "    success, frame = video_capture.read()\n",
    "    count = 1\n",
    "    \n",
    "    # Iterate over frames and save each one\n",
    "    while success:\n",
    "        frame_path = os.path.join(output_frames_folder, f\"frame_{count}.jpg\")\n",
    "        cv2.imwrite(frame_path, frame)\n",
    "        count += 1\n",
    "        success, frame = video_capture.read()\n",
    "    \n",
    "    video_capture.release()\n",
    "    print(f\"Frames saved to {output_frames_folder}\")\n",
    "\n",
    "# Example usage\n",
    "input_video_path = \"input/input_vid.mp4\"  # Replace with your video file path\n",
    "output_frames_folder = \"temp\"  # Temporary folder for frames\n",
    "video_to_frames(input_video_path, output_frames_folder)\n"
   ]
  },
  {
   "cell_type": "code",
   "execution_count": 14,
   "metadata": {},
   "outputs": [
    {
     "name": "stdout",
     "output_type": "stream",
     "text": [
      "Video saved to output/reconstructed1_video.mp4 and temporary frames cleared.\n"
     ]
    }
   ],
   "source": [
    "import cv2\n",
    "import os\n",
    "\n",
    "def frames_to_video_and_clear(input_frames_folder, output_video_path, fps=30):\n",
    "    # Get all frame file names and sort them in order\n",
    "    frame_files = sorted([f for f in os.listdir(input_frames_folder) if f.endswith(\".jpg\")],\n",
    "                         key=lambda x: int(x.split('_')[1].split('.')[0]))\n",
    "    \n",
    "    # Read the first frame to determine the video size\n",
    "    first_frame_path = os.path.join(input_frames_folder, frame_files[0])\n",
    "    first_frame = cv2.imread(first_frame_path)\n",
    "    height, width, layers = first_frame.shape\n",
    "    \n",
    "    # Initialize the video writer\n",
    "    fourcc = cv2.VideoWriter_fourcc(*\"mp4v\")\n",
    "    video_writer = cv2.VideoWriter(output_video_path, fourcc, fps, (width, height))\n",
    "    \n",
    "    # Add each frame to the video and delete it from the folder\n",
    "    for frame_file in frame_files:\n",
    "        frame_path = os.path.join(input_frames_folder, frame_file)\n",
    "        frame = cv2.imread(frame_path)\n",
    "        video_writer.write(frame)\n",
    "        \n",
    "        # Delete the frame after adding it to the video\n",
    "        os.remove(frame_path)\n",
    "    \n",
    "    video_writer.release()\n",
    "    print(f\"Video saved to {output_video_path} and temporary frames cleared.\")\n",
    "\n",
    "# Example usage\n",
    "input_frames_folder = \"temp\"  # Folder containing frames\n",
    "output_video_path = \"output/reconstructed1_video.mp4\"  # Path to save the output video\n",
    "frames_to_video_and_clear(input_frames_folder, output_video_path)\n"
   ]
  },
  {
   "cell_type": "markdown",
   "metadata": {},
   "source": [
    "### live video procesing\n"
   ]
  },
  {
   "cell_type": "code",
   "execution_count": 16,
   "metadata": {},
   "outputs": [
    {
     "name": "stdout",
     "output_type": "stream",
     "text": [
      "Processing live feed... Press 'q' to quit.\n",
      "Reconstructed video saved to output/reconstructed_video.mp4\n"
     ]
    }
   ],
   "source": [
    "import cv2\n",
    "import os\n",
    "\n",
    "def process_live_feed(output_frames_folder, reconstructed_video_path, fps=30):\n",
    "    # Set up directories\n",
    "    os.makedirs(output_frames_folder, exist_ok=True)\n",
    "    frame_count = 0\n",
    "    \n",
    "    # Set up video capture for live feed (0 for the default camera)\n",
    "    cap = cv2.VideoCapture(0)  \n",
    "    if not cap.isOpened():\n",
    "        print(\"Error: Could not open the camera.\")\n",
    "        return\n",
    "    \n",
    "    # Get the width and height of the frames\n",
    "    width = int(cap.get(cv2.CAP_PROP_FRAME_WIDTH))\n",
    "    height = int(cap.get(cv2.CAP_PROP_FRAME_HEIGHT))\n",
    "    \n",
    "    # Set up video writer for real-time reconstructed video\n",
    "    fourcc = cv2.VideoWriter_fourcc(*\"mp4v\")\n",
    "    video_writer = cv2.VideoWriter(reconstructed_video_path, fourcc, fps, (width, height))\n",
    "    \n",
    "    print(\"Processing live feed... Press 'q' to quit.\")\n",
    "    \n",
    "    # Real-time frame processing loop\n",
    "    while True:\n",
    "        # Capture frame-by-frame\n",
    "        ret, frame = cap.read()\n",
    "        if not ret:\n",
    "            break\n",
    "        \n",
    "        # Save each frame temporarily\n",
    "        frame_count += 1\n",
    "        frame_path = os.path.join(output_frames_folder, f\"frame_{frame_count}.jpg\")\n",
    "        cv2.imwrite(frame_path, frame)\n",
    "        \n",
    "        # Write each frame to the output video\n",
    "        video_writer.write(frame)\n",
    "        \n",
    "        # Remove the frame file immediately after writing to video\n",
    "        os.remove(frame_path)\n",
    "        \n",
    "        # Display the live feed\n",
    "        cv2.imshow('Live Feed', frame)\n",
    "        \n",
    "        # Quit with 'q' key\n",
    "        if cv2.waitKey(1) & 0xFF == ord('q'):\n",
    "            break\n",
    "    \n",
    "    # Release resources\n",
    "    cap.release()\n",
    "    video_writer.release()\n",
    "    cv2.destroyAllWindows()\n",
    "    print(f\"Reconstructed video saved to {reconstructed_video_path}\")\n",
    "\n",
    "# Example usage\n",
    "output_frames_folder = \"temp\"  # Temporary folder for frames\n",
    "reconstructed_video_path = \"output/reconstructed_video.mp4\"  # Save path for the output videoq\n",
    "process_live_feed(output_frames_folder, reconstructed_video_path)\n"
   ]
  },
  {
   "cell_type": "code",
   "execution_count": null,
   "metadata": {},
   "outputs": [],
   "source": []
  },
  {
   "cell_type": "code",
   "execution_count": null,
   "metadata": {},
   "outputs": [],
   "source": []
  }
 ],
 "metadata": {
  "kernelspec": {
   "display_name": "Python 3",
   "language": "python",
   "name": "python3"
  },
  "language_info": {
   "codemirror_mode": {
    "name": "ipython",
    "version": 3
   },
   "file_extension": ".py",
   "mimetype": "text/x-python",
   "name": "python",
   "nbconvert_exporter": "python",
   "pygments_lexer": "ipython3",
   "version": "3.12.7"
  }
 },
 "nbformat": 4,
 "nbformat_minor": 2
}
